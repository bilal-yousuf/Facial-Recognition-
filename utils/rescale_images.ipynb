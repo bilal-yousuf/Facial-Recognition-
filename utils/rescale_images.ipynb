{
 "cells": [
  {
   "cell_type": "markdown",
   "source": [
    "# Please do not run this file.\n",
    "\n",
    "This file was used to rescale our full resolution train and test images. It also maps each file to a label. The output can be found in the test and train folders. We have not included the full resolution images to decrease submission size. Rerunning it will create duplicate images and label files. "
   ],
   "metadata": {
    "collapsed": false,
    "pycharm": {
     "name": "#%% md\n"
    }
   }
  },
  {
   "cell_type": "code",
   "execution_count": null,
   "metadata": {},
   "outputs": [],
   "source": [
    "import glob\n",
    "import cv2\n",
    "# grab the original images\n",
    "train_images = [cv2.cvtColor(cv2.imread(file), cv2.COLOR_BGR2RGB) for file in glob.glob(\"pictures/train/*.jpg\")]\n",
    "test_images = [cv2.cvtColor(cv2.imread(file), cv2.COLOR_BGR2RGB) for file in glob.glob(\"pictures/test/*.jpg\")]\n",
    "\n"
   ]
  },
  {
   "cell_type": "code",
   "execution_count": 2,
   "metadata": {},
   "outputs": [],
   "source": [
    "new_size = (256, 256)\n",
    "for i in range(len(train_images)):\n",
    "    train_images[i] = cv2.resize(train_images[i], new_size)\n",
    "for i in range(len(test_images)):\n",
    "    test_images[i] = cv2.resize(test_images[i], new_size)\n"
   ]
  },
  {
   "cell_type": "code",
   "execution_count": 3,
   "metadata": {},
   "outputs": [],
   "source": [
    "# now save the rescaled images\n",
    "for i, img in enumerate(train_images):\n",
    "    cv2.imwrite(\"pictures/scaled_train/train\" + str(i) + \".jpg\", cv2.cvtColor(img, cv2.COLOR_RGB2BGR))\n",
    "for i, img in enumerate(test_images):\n",
    "    cv2.imwrite(\"pictures/scaled_test/test\" + str(i) + \".jpg\", cv2.cvtColor(img, cv2.COLOR_RGB2BGR))"
   ]
  },
  {
   "cell_type": "code",
   "execution_count": 4,
   "metadata": {
    "pycharm": {
     "name": "#%%\n"
    }
   },
   "outputs": [],
   "source": [
    "# now create the labels json for train and test images\n",
    "import json\n",
    "labels = {\"train\": {},\n",
    "          \"test\": {}\n",
    "          }\n",
    "paarth = [0, 7, 8, 10, 13, 14, 15, 23, 29, 33, 38, 46, 60, 62, 71, ]\n",
    "jeremy = [2, 4, 5, 16, 19, 20, 21, 26, 40, 48, 49, 53, 59, 69, 73]\n",
    "joseph = [12, 17, 18, 24, 27, 28, 31, 32, 34, 50, 54, 56, 57, 70, 74]\n",
    "eric = [1, 6, 11, 22, 25, 37, 39, 43, 47, 51, 52, 65, 66, 67, 68]\n",
    "bilal = [3, 9, 30, 35, 36, 41, 42, 44, 45, 55, 58, 61, 63, 64, 72]\n",
    "\n",
    "for i in range(75):\n",
    "    file = \"train\"+str(i)+\".jpg\"\n",
    "    if i in bilal:\n",
    "        labels[\"train\"][file] = 0\n",
    "    elif i in eric:\n",
    "        labels[\"train\"][file] = 1\n",
    "    elif i in jeremy:\n",
    "        labels[\"train\"][file] = 2\n",
    "    elif i in joseph:\n",
    "        labels[\"train\"][file] = 3\n",
    "    elif i in paarth:\n",
    "        labels[\"train\"][file] = 4\n",
    "    else:\n",
    "        print(\"Error: an image was not assignet a label\")\n",
    "        break\n",
    "test_bilal = [6, 15, 18, 22, 27, 29, 39, 40, 50, 51, 55, 62, 64, 68]\n",
    "test_eric = [0, 1, 3, 4, 5, 8, 28, 37, 42, 47, 56, 57, 66, 69]\n",
    "test_jeremy = [10, 12, 16, 20, 21, 23, 25, 32, 36, 43, 45, 46, 59, 61, ]\n",
    "test_joseph = [2, 9, 11, 13, 31, 34, 35, 38, 48, 53, 58, 63, 65, 67]\n",
    "test_paarth = [7, 14, 17, 19, 24, 26, 30, 33, 41, 44, 49, 52, 54, 60, ]\n",
    "\n",
    "for i in range(70):\n",
    "    file = \"test\"+str(i)+\".jpg\"\n",
    "    if i in test_bilal:\n",
    "        labels[\"test\"][file] = 0\n",
    "    elif i in test_eric:\n",
    "        labels[\"test\"][file] = 1\n",
    "    elif i in test_jeremy:\n",
    "        labels[\"test\"][file] = 2\n",
    "    elif i in test_joseph:\n",
    "        labels[\"test\"][file] = 3\n",
    "    elif i in test_paarth:\n",
    "        labels[\"test\"][file] = 4\n",
    "    else:\n",
    "        print(\"Error: an image was not assignet a label\")\n",
    "        break\n",
    "with open('pictures/train/labels.json', 'w') as f:\n",
    "    json.dump(labels[\"train\"], f, ensure_ascii=False, indent=4)\n",
    "with open('pictures/test/labels.json', 'w') as f:\n",
    "    json.dump(labels[\"test\"], f, ensure_ascii=False, indent=4)\n"
   ]
  }
 ],
 "metadata": {
  "kernelspec": {
   "display_name": "Python 2",
   "language": "python",
   "name": "python2"
  },
  "language_info": {
   "codemirror_mode": {
    "name": "ipython",
    "version": 2
   },
   "file_extension": ".py",
   "mimetype": "text/x-python",
   "name": "python",
   "nbconvert_exporter": "python",
   "pygments_lexer": "ipython2",
   "version": "2.7.15"
  },
  "pycharm": {
   "stem_cell": {
    "cell_type": "raw",
    "source": [],
    "metadata": {
     "collapsed": false
    }
   }
  }
 },
 "nbformat": 4,
 "nbformat_minor": 1
}